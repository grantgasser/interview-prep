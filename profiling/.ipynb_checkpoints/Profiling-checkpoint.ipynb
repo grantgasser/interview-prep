{
 "cells": [
  {
   "cell_type": "markdown",
   "metadata": {},
   "source": [
    "# Profiling\n",
    "## Toy problem: read in 5000 words and find duplicates (case-insensitive)\n",
    "### Which parts of code use most execution time?\n",
    "Video: https://www.youtube.com/watch?v=8qEnExGLZfY"
   ]
  },
  {
   "cell_type": "code",
   "execution_count": 27,
   "metadata": {},
   "outputs": [],
   "source": [
    "# first, generate txt w/ 5000 lines/strings\n",
    "import random, string\n",
    "\n",
    "\n",
    "with open('words.txt', 'w') as f:\n",
    "    for _ in range(5000):\n",
    "        word = ''.join(random.choice(string.ascii_letters) for _ in range(3))\n",
    "        f.write(word + '\\n')"
   ]
  },
  {
   "cell_type": "markdown",
   "metadata": {},
   "source": [
    "## Initial, inefficient solution"
   ]
  },
  {
   "cell_type": "code",
   "execution_count": 33,
   "metadata": {},
   "outputs": [],
   "source": [
    "# read in words\n",
    "def read_words(file):\n",
    "    with open(file) as f:\n",
    "        return f.read().splitlines()"
   ]
  },
  {
   "cell_type": "code",
   "execution_count": 34,
   "metadata": {},
   "outputs": [],
   "source": [
    "# check if duplicate\n",
    "def is_duplicate(needle, haystack):\n",
    "    for word in haystack:\n",
    "        if needle.lower() == word.lower():\n",
    "            return True\n",
    "    return False"
   ]
  },
  {
   "cell_type": "code",
   "execution_count": 39,
   "metadata": {},
   "outputs": [],
   "source": [
    "# find duplicates (case-insensitive)\n",
    "def find_duplicates(file):\n",
    "    haystack = read_words(file)\n",
    "    duplicates = []\n",
    "    \n",
    "    while haystack:\n",
    "        needle = haystack.pop()\n",
    "        if is_duplicate(needle, haystack):\n",
    "            duplicates.append(needle)\n",
    "            \n",
    "    return duplicates"
   ]
  },
  {
   "cell_type": "code",
   "execution_count": 36,
   "metadata": {},
   "outputs": [
    {
     "data": {
      "text/plain": [
       "656"
      ]
     },
     "execution_count": 36,
     "metadata": {},
     "output_type": "execute_result"
    }
   ],
   "source": [
    "# dups = find_duplicates('words.txt')\n",
    "# len(dups)"
   ]
  },
  {
   "cell_type": "markdown",
   "metadata": {},
   "source": [
    "### Profiling\n",
    "docs: https://docs.python.org/3/library/profile.html#profile.Profile"
   ]
  },
  {
   "cell_type": "code",
   "execution_count": 37,
   "metadata": {},
   "outputs": [
    {
     "name": "stdout",
     "output_type": "stream",
     "text": [
      "         22807860 function calls in 4.053 seconds\n",
      "\n",
      "   Ordered by: standard name\n",
      "\n",
      "   ncalls  tottime  percall  cumtime  percall filename:lineno(function)\n",
      "        1    0.000    0.000    0.001    0.001 <ipython-input-33-95314b026153>:2(read_words)\n",
      "     5000    2.469    0.000    4.050    0.001 <ipython-input-34-4969f528cf04>:2(is_duplicate)\n",
      "        1    0.002    0.002    4.053    4.053 <ipython-input-35-fbf4261734c0>:2(find_duplicates)\n",
      "        1    0.000    0.000    4.053    4.053 <string>:1(<module>)\n",
      "        1    0.000    0.000    0.000    0.000 _bootlocale.py:33(getpreferredencoding)\n",
      "        1    0.000    0.000    0.000    0.000 codecs.py:260(__init__)\n",
      "        1    0.000    0.000    0.000    0.000 codecs.py:309(__init__)\n",
      "        1    0.000    0.000    0.000    0.000 codecs.py:319(decode)\n",
      "        1    0.000    0.000    0.000    0.000 {built-in method _codecs.utf_8_decode}\n",
      "        1    0.000    0.000    0.000    0.000 {built-in method _locale.nl_langinfo}\n",
      "        1    0.000    0.000    4.053    4.053 {built-in method builtins.exec}\n",
      "        1    0.000    0.000    0.000    0.000 {built-in method io.open}\n",
      "      656    0.000    0.000    0.000    0.000 {method 'append' of 'list' objects}\n",
      "        1    0.000    0.000    0.000    0.000 {method 'disable' of '_lsprof.Profiler' objects}\n",
      " 22797190    1.581    0.000    1.581    0.000 {method 'lower' of 'str' objects}\n",
      "     5000    0.000    0.000    0.000    0.000 {method 'pop' of 'list' objects}\n",
      "        1    0.000    0.000    0.000    0.000 {method 'read' of '_io.TextIOWrapper' objects}\n",
      "        1    0.000    0.000    0.000    0.000 {method 'splitlines' of 'str' objects}\n",
      "\n",
      "\n"
     ]
    }
   ],
   "source": [
    "# Profiling\n",
    "import cProfile\n",
    "\n",
    "cProfile.run('find_duplicates(\"words.txt\")')\n",
    "\n",
    "# 4.053 seconds, 4.050 in is_duplicate()!, 1.581 in lower() (also, lower() was called 23M times)"
   ]
  },
  {
   "cell_type": "markdown",
   "metadata": {},
   "source": [
    "## Optimizing"
   ]
  },
  {
   "cell_type": "markdown",
   "metadata": {},
   "source": [
    "### 1) call `lower()` when read in words, reduce calls from ~25M to just 1!"
   ]
  },
  {
   "cell_type": "code",
   "execution_count": 41,
   "metadata": {},
   "outputs": [],
   "source": [
    "def read_words(file):\n",
    "    with open(file) as f:\n",
    "        return f.read().lower().splitlines()\n",
    "    \n",
    "# check if duplicate\n",
    "def is_duplicate(needle, haystack):\n",
    "    for word in haystack:\n",
    "        if needle == word:\n",
    "            return True\n",
    "    return False"
   ]
  },
  {
   "cell_type": "code",
   "execution_count": 42,
   "metadata": {},
   "outputs": [
    {
     "name": "stdout",
     "output_type": "stream",
     "text": [
      "         10671 function calls in 0.298 seconds\n",
      "\n",
      "   Ordered by: standard name\n",
      "\n",
      "   ncalls  tottime  percall  cumtime  percall filename:lineno(function)\n",
      "        1    0.002    0.002    0.298    0.298 <ipython-input-39-fbf4261734c0>:2(find_duplicates)\n",
      "        1    0.000    0.000    0.001    0.001 <ipython-input-41-1bafda4d4f99>:1(read_words)\n",
      "     5000    0.295    0.000    0.295    0.000 <ipython-input-41-1bafda4d4f99>:6(is_duplicate)\n",
      "        1    0.000    0.000    0.298    0.298 <string>:1(<module>)\n",
      "        1    0.000    0.000    0.000    0.000 _bootlocale.py:33(getpreferredencoding)\n",
      "        1    0.000    0.000    0.000    0.000 codecs.py:260(__init__)\n",
      "        1    0.000    0.000    0.000    0.000 codecs.py:309(__init__)\n",
      "        1    0.000    0.000    0.000    0.000 codecs.py:319(decode)\n",
      "        1    0.000    0.000    0.000    0.000 {built-in method _codecs.utf_8_decode}\n",
      "        1    0.000    0.000    0.000    0.000 {built-in method _locale.nl_langinfo}\n",
      "        1    0.000    0.000    0.298    0.298 {built-in method builtins.exec}\n",
      "        1    0.000    0.000    0.001    0.001 {built-in method io.open}\n",
      "      656    0.000    0.000    0.000    0.000 {method 'append' of 'list' objects}\n",
      "        1    0.000    0.000    0.000    0.000 {method 'disable' of '_lsprof.Profiler' objects}\n",
      "        1    0.000    0.000    0.000    0.000 {method 'lower' of 'str' objects}\n",
      "     5000    0.000    0.000    0.000    0.000 {method 'pop' of 'list' objects}\n",
      "        1    0.000    0.000    0.000    0.000 {method 'read' of '_io.TextIOWrapper' objects}\n",
      "        1    0.000    0.000    0.000    0.000 {method 'splitlines' of 'str' objects}\n",
      "\n",
      "\n"
     ]
    }
   ],
   "source": [
    "cProfile.run('find_duplicates(\"words.txt\")')\n",
    "\n",
    "# >10X speedup! "
   ]
  },
  {
   "cell_type": "markdown",
   "metadata": {},
   "source": [
    "### 2) calling `is_duplicate()` is time consuming (0.295/0.298), its simple now so just remove it"
   ]
  },
  {
   "cell_type": "code",
   "execution_count": 43,
   "metadata": {},
   "outputs": [],
   "source": [
    "# find duplicates (case-insensitive)\n",
    "def find_duplicates(file):\n",
    "    haystack = read_words(file)\n",
    "    duplicates = []\n",
    "    \n",
    "    while haystack:\n",
    "        needle = haystack.pop()\n",
    "        if needle in haystack:\n",
    "            duplicates.append(needle)\n",
    "            \n",
    "    return duplicates"
   ]
  },
  {
   "cell_type": "code",
   "execution_count": 44,
   "metadata": {},
   "outputs": [
    {
     "name": "stdout",
     "output_type": "stream",
     "text": [
      "         5671 function calls in 0.169 seconds\n",
      "\n",
      "   Ordered by: standard name\n",
      "\n",
      "   ncalls  tottime  percall  cumtime  percall filename:lineno(function)\n",
      "        1    0.000    0.000    0.001    0.001 <ipython-input-41-1bafda4d4f99>:1(read_words)\n",
      "        1    0.168    0.168    0.169    0.169 <ipython-input-43-6f48b450ebec>:2(find_duplicates)\n",
      "        1    0.000    0.000    0.169    0.169 <string>:1(<module>)\n",
      "        1    0.000    0.000    0.000    0.000 _bootlocale.py:33(getpreferredencoding)\n",
      "        1    0.000    0.000    0.000    0.000 codecs.py:260(__init__)\n",
      "        1    0.000    0.000    0.000    0.000 codecs.py:309(__init__)\n",
      "        1    0.000    0.000    0.000    0.000 codecs.py:319(decode)\n",
      "        1    0.000    0.000    0.000    0.000 {built-in method _codecs.utf_8_decode}\n",
      "        1    0.000    0.000    0.000    0.000 {built-in method _locale.nl_langinfo}\n",
      "        1    0.000    0.000    0.169    0.169 {built-in method builtins.exec}\n",
      "        1    0.000    0.000    0.000    0.000 {built-in method io.open}\n",
      "      656    0.000    0.000    0.000    0.000 {method 'append' of 'list' objects}\n",
      "        1    0.000    0.000    0.000    0.000 {method 'disable' of '_lsprof.Profiler' objects}\n",
      "        1    0.000    0.000    0.000    0.000 {method 'lower' of 'str' objects}\n",
      "     5000    0.000    0.000    0.000    0.000 {method 'pop' of 'list' objects}\n",
      "        1    0.000    0.000    0.000    0.000 {method 'read' of '_io.TextIOWrapper' objects}\n",
      "        1    0.000    0.000    0.000    0.000 {method 'splitlines' of 'str' objects}\n",
      "\n",
      "\n"
     ]
    }
   ],
   "source": [
    "cProfile.run('find_duplicates(\"words.txt\")')\n",
    "\n",
    "# ~2X speedup (.298 => .169)"
   ]
  },
  {
   "cell_type": "markdown",
   "metadata": {},
   "source": [
    "### 3) Algorithmic adjustment (using hash table instead of iterating through list for each word)\n",
    "\n",
    "`O(N^2) => O(N)`"
   ]
  },
  {
   "cell_type": "code",
   "execution_count": 51,
   "metadata": {},
   "outputs": [],
   "source": [
    "# find duplicates (case-insensitive)\n",
    "def find_duplicates(file):\n",
    "    haystack = read_words(file)\n",
    "    duplicates = []\n",
    "    \n",
    "    # store words in hash table (O(N))\n",
    "    hash_table = {}\n",
    "    for word in haystack:\n",
    "        # lookup is O(1)\n",
    "        result = hash_table.get(word)\n",
    "        if result is None:\n",
    "            hash_table[word] = 1\n",
    "        else:\n",
    "            duplicates.append(word)\n",
    "            \n",
    "    return duplicates"
   ]
  },
  {
   "cell_type": "code",
   "execution_count": 54,
   "metadata": {},
   "outputs": [
    {
     "name": "stdout",
     "output_type": "stream",
     "text": [
      "         5671 function calls in 0.003 seconds\n",
      "\n",
      "   Ordered by: standard name\n",
      "\n",
      "   ncalls  tottime  percall  cumtime  percall filename:lineno(function)\n",
      "        1    0.000    0.000    0.001    0.001 <ipython-input-41-1bafda4d4f99>:1(read_words)\n",
      "        1    0.001    0.001    0.003    0.003 <ipython-input-51-ceacab52f32b>:2(find_duplicates)\n",
      "        1    0.000    0.000    0.003    0.003 <string>:1(<module>)\n",
      "        1    0.000    0.000    0.000    0.000 _bootlocale.py:33(getpreferredencoding)\n",
      "        1    0.000    0.000    0.000    0.000 codecs.py:260(__init__)\n",
      "        1    0.000    0.000    0.000    0.000 codecs.py:309(__init__)\n",
      "        1    0.000    0.000    0.000    0.000 codecs.py:319(decode)\n",
      "        1    0.000    0.000    0.000    0.000 {built-in method _codecs.utf_8_decode}\n",
      "        1    0.000    0.000    0.000    0.000 {built-in method _locale.nl_langinfo}\n",
      "        1    0.000    0.000    0.003    0.003 {built-in method builtins.exec}\n",
      "        1    0.000    0.000    0.000    0.000 {built-in method io.open}\n",
      "      656    0.000    0.000    0.000    0.000 {method 'append' of 'list' objects}\n",
      "        1    0.000    0.000    0.000    0.000 {method 'disable' of '_lsprof.Profiler' objects}\n",
      "     5000    0.001    0.000    0.001    0.000 {method 'get' of 'dict' objects}\n",
      "        1    0.000    0.000    0.000    0.000 {method 'lower' of 'str' objects}\n",
      "        1    0.000    0.000    0.000    0.000 {method 'read' of '_io.TextIOWrapper' objects}\n",
      "        1    0.000    0.000    0.000    0.000 {method 'splitlines' of 'str' objects}\n",
      "\n",
      "\n"
     ]
    }
   ],
   "source": [
    "cProfile.run('find_duplicates(\"words.txt\")')\n",
    "\n",
    "# 56X speedup! (.169 => .003)"
   ]
  },
  {
   "cell_type": "markdown",
   "metadata": {},
   "source": [
    "### Overall Performance Boost:\n",
    "\n",
    "Theoretically: `O(N^2) => O(N)`\n",
    "\n",
    "Time: `4.053 => .003` which is `1350X` speedup"
   ]
  },
  {
   "cell_type": "code",
   "execution_count": null,
   "metadata": {},
   "outputs": [],
   "source": []
  }
 ],
 "metadata": {
  "kernelspec": {
   "display_name": "Python 3",
   "language": "python",
   "name": "python3"
  },
  "language_info": {
   "codemirror_mode": {
    "name": "ipython",
    "version": 3
   },
   "file_extension": ".py",
   "mimetype": "text/x-python",
   "name": "python",
   "nbconvert_exporter": "python",
   "pygments_lexer": "ipython3",
   "version": "3.8.5"
  }
 },
 "nbformat": 4,
 "nbformat_minor": 4
}
